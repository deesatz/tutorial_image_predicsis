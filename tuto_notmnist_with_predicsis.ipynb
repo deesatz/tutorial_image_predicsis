{
 "cells": [
  {
   "cell_type": "markdown",
   "metadata": {},
   "source": [
    "It is common to believe that deep learning is the only way to manage Image recognition.\n",
    "In fact AutoML also provides (an easier) solution. \n",
    "We will show that AutoML by PredicSis.ai provides an efficient and simple solution.\n",
    "\n",
    "Let's begin using the notMNIST datasets provided by Google in it deep learning tutorial available on Udacity ([this mock course](https://classroom.udacity.com/courses/ud730)). \n",
    "Those datasets provide sets of letter pictures:\n",
    " - a large one used to train ([here](https://commondatastorage.googleapis.com/books1000/notMNIST_large.tar.gz))\n",
    " - a small one used to test ([here](https://commondatastorage.googleapis.com/books1000/notMNIST_small.tar.gz))\n",
    " \n",
    "So the goal is to fit a model to recognize if those kind of pictures:\n",
    "\n",
    "<div style=\"background-color: gray; padding:2px; margin:40px; transform: scale(2.5)\">\n",
    "<table>\n",
    "    <tr>\n",
    "    <td>![Image of a A](raw.png) </td>\n",
    "    <td>![Image of a B](b.png)</td>\n",
    "    <td>![Image of a C](c.png)</td>\n",
    "    <td>...</td>\n",
    "    </tr>\n",
    "</table>\n",
    "</div>\n",
    "are A, B, C, D, E, F, G, H, I or J."
   ]
  },
  {
   "cell_type": "markdown",
   "metadata": {},
   "source": [
    "We start by the simplest image processing to a csv dataset. (With autoML there is no need to normalize or transform pixels information... PredicSis.ai workflow includes an optimized and optimal statistic reduction discuss in the following.)\n",
    "\n",
    "Requirements:\n",
    " - python  \n",
    "   - scipy, numpy, pandas, matplotlib\n",
    "   - predicsis python SDK (http://predicsis-python-sdk.readthedocs.io) \n",
    " - PredicSis.ai instance ([AWS Marketplace](https://aws.amazon.com/marketplace/search/results?x=0&y=0&searchTerms=predicsis))"
   ]
  },
  {
   "cell_type": "markdown",
   "metadata": {},
   "source": [
    "# Few line of python code"
   ]
  },
  {
   "cell_type": "code",
   "execution_count": 1,
   "metadata": {
    "ExecuteTime": {
     "end_time": "2017-08-23T10:42:42.136867",
     "start_time": "2017-08-23T10:42:41.844334"
    },
    "collapsed": true,
    "run_control": {
     "frozen": false,
     "read_only": false
    }
   },
   "outputs": [],
   "source": [
    "from scipy import ndimage\n",
    "import os"
   ]
  },
  {
   "cell_type": "code",
   "execution_count": 9,
   "metadata": {
    "ExecuteTime": {
     "end_time": "2017-08-23T10:24:31.957778",
     "start_time": "2017-08-23T10:11:39.025247"
    },
    "collapsed": false,
    "run_control": {
     "frozen": false,
     "read_only": false
    }
   },
   "outputs": [
    {
     "name": "stdout",
     "output_type": "stream",
     "text": [
      "./train/A/RnJlaWdodERpc3BCb29rSXRhbGljLnR0Zg==.png cannot be identify!\n",
      "./train/A/SG90IE11c3RhcmQgQlROIFBvc3Rlci50dGY=.png cannot be identify!\n",
      "./train/A/Um9tYW5hIEJvbGQucGZi.png cannot be identify!\n",
      "./train/B/TmlraXNFRi1TZW1pQm9sZEl0YWxpYy5vdGY=.png cannot be identify!\n",
      "./train/D/VHJhbnNpdCBCb2xkLnR0Zg==.png cannot be identify!\n",
      "./test/A/RGVtb2NyYXRpY2FCb2xkT2xkc3R5bGUgQm9sZC50dGY=.png cannot be identify!\n",
      "./test/F/Q3Jvc3NvdmVyIEJvbGRPYmxpcXVlLnR0Zg==.png cannot be identify!\n"
     ]
    }
   ],
   "source": [
    "im_size = 28\n",
    "\n",
    "headers = ['index'] + ['p%dx%d' % (x, y) \n",
    "          for x in range(im_size) \n",
    "          for y in range(im_size)] + ['letter']\n",
    "\n",
    "for t in ['train', 'test']:\n",
    "    i = 0\n",
    "    with open('pdataset_%s.csv' % t, 'w') as dataset:\n",
    "        dataset.write(','.join(headers) + '\\n')\n",
    "        for letter in ['A', 'B', 'C', 'D', 'E', 'F', 'G', 'H', 'I', 'J']:\n",
    "            for image_file in os.listdir(os.path.join(os.path.curdir, t, letter)):\n",
    "                try:\n",
    "                    im = ndimage.imread(os.path.join(os.path.curdir, t, letter, image_file)).astype(float)\n",
    "                except IOError:\n",
    "                    print os.path.join(os.path.curdir, t, letter, image_file) + ' cannot be identify!'\n",
    "                    continue\n",
    "                if im.shape != (im_size, im_size):\n",
    "                    print os.path.join(os.path.curdir, t, letter, image_file) + ' is corrupted!'\n",
    "                    continue\n",
    "                image_row = [i] + [im[x][y] \n",
    "                             for x in range(im_size) \n",
    "                             for y in range(im_size)]\n",
    "                i += 1\n",
    "                dataset.write(','.join(map(lambda npfloat: repr(float(npfloat)), image_row)) + ',' + letter + '\\n')"
   ]
  },
  {
   "cell_type": "markdown",
   "metadata": {},
   "source": [
    "Once we build datasets, let PredicSis.ai works:"
   ]
  },
  {
   "cell_type": "markdown",
   "metadata": {},
   "source": [
    " - load the python SDK libraries:"
   ]
  },
  {
   "cell_type": "code",
   "execution_count": 2,
   "metadata": {
    "ExecuteTime": {
     "end_time": "2017-08-23T10:43:08.552339",
     "start_time": "2017-08-23T10:43:08.548702"
    },
    "collapsed": true,
    "run_control": {
     "frozen": false,
     "read_only": false
    }
   },
   "outputs": [],
   "source": [
    "from predicsis import PredicSis"
   ]
  },
  {
   "cell_type": "markdown",
   "metadata": {},
   "source": [
    " - create a new project `notMNIST`\n",
    " - automatically fit a model"
   ]
  },
  {
   "cell_type": "code",
   "execution_count": 9,
   "metadata": {
    "ExecuteTime": {
     "end_time": "2017-08-23T10:56:31.147674",
     "start_time": "2017-08-23T10:45:43.325530"
    },
    "collapsed": false,
    "run_control": {
     "frozen": false,
     "read_only": false
    }
   },
   "outputs": [],
   "source": [
    "pj = PredicSis.create_project(\n",
    "    'notMNIST', {\n",
    "        'name': 'notMNIST',\n",
    "        'train': './pdataset_train.csv',\n",
    "        'test': './pdataset_test.csv'\n",
    "    },\n",
    "    key='index',\n",
    "    target='letter',\n",
    "    main_modality='A',\n",
    "    separator=','\n",
    ")\n",
    "mod = pj.default_schema().fit('model')"
   ]
  },
  {
   "cell_type": "markdown",
   "metadata": {
    "ExecuteTime": {
     "end_time": "2017-08-23T15:32:07.792407",
     "start_time": "2017-08-23T15:32:07.787324"
    }
   },
   "source": [
    "We obtain the following results:"
   ]
  },
  {
   "cell_type": "code",
   "execution_count": 43,
   "metadata": {
    "ExecuteTime": {
     "end_time": "2017-08-23T15:03:12.251078",
     "start_time": "2017-08-23T15:03:10.586221"
    },
    "collapsed": true,
    "run_control": {
     "frozen": false,
     "read_only": false
    }
   },
   "outputs": [],
   "source": [
    "import matplotlib.pyplot as plt\n",
    "%matplotlib inline"
   ]
  },
  {
   "cell_type": "markdown",
   "metadata": {},
   "source": [
    "- auc\n",
    "- accuracy\n",
    "- cumulative gain charts:"
   ]
  },
  {
   "cell_type": "code",
   "execution_count": 54,
   "metadata": {
    "ExecuteTime": {
     "end_time": "2017-08-23T15:09:59.504210",
     "start_time": "2017-08-23T15:09:58.654607"
    },
    "collapsed": false,
    "run_control": {
     "frozen": false,
     "read_only": false
    }
   },
   "outputs": [
    {
     "name": "stdout",
     "output_type": "stream",
     "text": [
      "Area Under Curve: 0.959334\n",
      "Accuracy: 0.771051\n"
     ]
    },
    {
     "data": {
      "image/png": "[encoded data removed]",
      "text/plain": [
       "<matplotlib.figure.Figure at 0x11f86a510>"
      ]
     },
     "metadata": {},
     "output_type": "display_data"
    }
   ],
   "source": [
    "a, = plt.plot(mod.cumulative_gain()['classifier'], 'r-', label='Classifier')\n",
    "b, = plt.plot(mod.cumulative_gain()['optimal'], 'b-', label='Optimal')\n",
    "c, = plt.plot(range(1,101), 'g-', label=\"Random\")\n",
    "plt.legend(handles=[a, b, c])\n",
    "print \"Area Under Curve:\", mod.auc()\n",
    "print \"Accuracy:\", mod.accuracy()\n",
    "plt.show()"
   ]
  },
  {
   "cell_type": "markdown",
   "metadata": {},
   "source": [
    "- confusion matrix and global and recall"
   ]
  },
  {
   "cell_type": "code",
   "execution_count": 57,
   "metadata": {
    "ExecuteTime": {
     "end_time": "2017-08-23T15:35:15.129433",
     "start_time": "2017-08-23T15:35:15.050206"
    },
    "collapsed": false,
    "run_control": {
     "frozen": false,
     "read_only": false
    }
   },
   "outputs": [
    {
     "data": {
      "text/html": [
       "<div>\n",
       "<style>\n",
       "    .dataframe thead tr:only-child th {\n",
       "        text-align: right;\n",
       "    }\n",
       "\n",
       "    .dataframe thead th {\n",
       "        text-align: left;\n",
       "    }\n",
       "\n",
       "    .dataframe tbody tr th {\n",
       "        vertical-align: top;\n",
       "    }\n",
       "</style>\n",
       "<table border=\"1\" class=\"dataframe\">\n",
       "  <thead>\n",
       "    <tr style=\"text-align: right;\">\n",
       "      <th></th>\n",
       "      <th>A</th>\n",
       "      <th>B</th>\n",
       "      <th>C</th>\n",
       "      <th>D</th>\n",
       "      <th>E</th>\n",
       "      <th>F</th>\n",
       "      <th>G</th>\n",
       "      <th>H</th>\n",
       "      <th>I</th>\n",
       "      <th>J</th>\n",
       "      <th>recall</th>\n",
       "    </tr>\n",
       "  </thead>\n",
       "  <tbody>\n",
       "    <tr>\n",
       "      <th>A</th>\n",
       "      <td>39804</td>\n",
       "      <td>1558</td>\n",
       "      <td>788</td>\n",
       "      <td>1254</td>\n",
       "      <td>1183</td>\n",
       "      <td>857</td>\n",
       "      <td>1184</td>\n",
       "      <td>2517</td>\n",
       "      <td>1367</td>\n",
       "      <td>998</td>\n",
       "      <td>0.772743</td>\n",
       "    </tr>\n",
       "    <tr>\n",
       "      <th>B</th>\n",
       "      <td>1489</td>\n",
       "      <td>40042</td>\n",
       "      <td>1130</td>\n",
       "      <td>2832</td>\n",
       "      <td>1872</td>\n",
       "      <td>708</td>\n",
       "      <td>2159</td>\n",
       "      <td>1167</td>\n",
       "      <td>1362</td>\n",
       "      <td>594</td>\n",
       "      <td>0.750483</td>\n",
       "    </tr>\n",
       "    <tr>\n",
       "      <th>C</th>\n",
       "      <td>308</td>\n",
       "      <td>223</td>\n",
       "      <td>41500</td>\n",
       "      <td>389</td>\n",
       "      <td>2692</td>\n",
       "      <td>265</td>\n",
       "      <td>3666</td>\n",
       "      <td>238</td>\n",
       "      <td>596</td>\n",
       "      <td>329</td>\n",
       "      <td>0.826594</td>\n",
       "    </tr>\n",
       "    <tr>\n",
       "      <th>D</th>\n",
       "      <td>927</td>\n",
       "      <td>2319</td>\n",
       "      <td>362</td>\n",
       "      <td>41535</td>\n",
       "      <td>280</td>\n",
       "      <td>297</td>\n",
       "      <td>591</td>\n",
       "      <td>681</td>\n",
       "      <td>531</td>\n",
       "      <td>810</td>\n",
       "      <td>0.859351</td>\n",
       "    </tr>\n",
       "    <tr>\n",
       "      <th>E</th>\n",
       "      <td>576</td>\n",
       "      <td>1697</td>\n",
       "      <td>2029</td>\n",
       "      <td>686</td>\n",
       "      <td>37966</td>\n",
       "      <td>775</td>\n",
       "      <td>1700</td>\n",
       "      <td>1861</td>\n",
       "      <td>1345</td>\n",
       "      <td>389</td>\n",
       "      <td>0.774437</td>\n",
       "    </tr>\n",
       "    <tr>\n",
       "      <th>F</th>\n",
       "      <td>645</td>\n",
       "      <td>987</td>\n",
       "      <td>962</td>\n",
       "      <td>1108</td>\n",
       "      <td>2874</td>\n",
       "      <td>46173</td>\n",
       "      <td>1425</td>\n",
       "      <td>1975</td>\n",
       "      <td>2092</td>\n",
       "      <td>1288</td>\n",
       "      <td>0.775639</td>\n",
       "    </tr>\n",
       "    <tr>\n",
       "      <th>G</th>\n",
       "      <td>1701</td>\n",
       "      <td>2355</td>\n",
       "      <td>4210</td>\n",
       "      <td>1682</td>\n",
       "      <td>2638</td>\n",
       "      <td>1103</td>\n",
       "      <td>39185</td>\n",
       "      <td>1315</td>\n",
       "      <td>1318</td>\n",
       "      <td>1647</td>\n",
       "      <td>0.685604</td>\n",
       "    </tr>\n",
       "    <tr>\n",
       "      <th>H</th>\n",
       "      <td>4267</td>\n",
       "      <td>1043</td>\n",
       "      <td>357</td>\n",
       "      <td>1018</td>\n",
       "      <td>700</td>\n",
       "      <td>477</td>\n",
       "      <td>930</td>\n",
       "      <td>40882</td>\n",
       "      <td>1009</td>\n",
       "      <td>530</td>\n",
       "      <td>0.798274</td>\n",
       "    </tr>\n",
       "    <tr>\n",
       "      <th>I</th>\n",
       "      <td>921</td>\n",
       "      <td>1011</td>\n",
       "      <td>819</td>\n",
       "      <td>939</td>\n",
       "      <td>1612</td>\n",
       "      <td>1014</td>\n",
       "      <td>872</td>\n",
       "      <td>968</td>\n",
       "      <td>38114</td>\n",
       "      <td>3553</td>\n",
       "      <td>0.764988</td>\n",
       "    </tr>\n",
       "    <tr>\n",
       "      <th>J</th>\n",
       "      <td>2271</td>\n",
       "      <td>1676</td>\n",
       "      <td>755</td>\n",
       "      <td>1468</td>\n",
       "      <td>1095</td>\n",
       "      <td>1243</td>\n",
       "      <td>1200</td>\n",
       "      <td>1308</td>\n",
       "      <td>5178</td>\n",
       "      <td>42773</td>\n",
       "      <td>0.725372</td>\n",
       "    </tr>\n",
       "  </tbody>\n",
       "</table>\n",
       "</div>"
      ],
      "text/plain": [
       "       A      B      C      D      E      F      G      H      I      J  \\\n",
       "A  39804   1558    788   1254   1183    857   1184   2517   1367    998   \n",
       "B   1489  40042   1130   2832   1872    708   2159   1167   1362    594   \n",
       "C    308    223  41500    389   2692    265   3666    238    596    329   \n",
       "D    927   2319    362  41535    280    297    591    681    531    810   \n",
       "E    576   1697   2029    686  37966    775   1700   1861   1345    389   \n",
       "F    645    987    962   1108   2874  46173   1425   1975   2092   1288   \n",
       "G   1701   2355   4210   1682   2638   1103  39185   1315   1318   1647   \n",
       "H   4267   1043    357   1018    700    477    930  40882   1009    530   \n",
       "I    921   1011    819    939   1612   1014    872    968  38114   3553   \n",
       "J   2271   1676    755   1468   1095   1243   1200   1308   5178  42773   \n",
       "\n",
       "     recall  \n",
       "A  0.772743  \n",
       "B  0.750483  \n",
       "C  0.826594  \n",
       "D  0.859351  \n",
       "E  0.774437  \n",
       "F  0.775639  \n",
       "G  0.685604  \n",
       "H  0.798274  \n",
       "I  0.764988  \n",
       "J  0.725372  "
      ]
     },
     "execution_count": 57,
     "metadata": {},
     "output_type": "execute_result"
    }
   ],
   "source": [
    "import pandas\n",
    "\n",
    "cm = mod.confusion_matrix()\n",
    "df = pandas.DataFrame(cm['matrix'], columns=cm['modalities'], index=cm['modalities'])\n",
    "df['positive'] = df[['A','B','C','D','E','F','G','H','I','J']].max(axis=1)\n",
    "df['sum'] = df[['A','B','C','D','E','F','G','H','I','J']].sum(axis=1)\n",
    "df['recall'] = df['positive'].div(df['sum'])\n",
    "del df['positive']\n",
    "del df['sum']\n",
    "df"
   ]
  },
  {
   "cell_type": "markdown",
   "metadata": {
    "collapsed": true,
    "run_control": {
     "frozen": false,
     "read_only": false
    }
   },
   "source": [
    "# What's happened?"
   ]
  },
  {
   "cell_type": "markdown",
   "metadata": {},
   "source": [
    "PredicSis.ai uses a really smart pipeline of automatic machine learning to fit a model. It applies:\n",
    " - (an smart aggregates generators on relational data)\n",
    " - an optimal statistical reduction ([scientific paper: MODL](http://www.marc-boulle.fr/publications/BoulleML06.pdf)) which select relevant features and optimize them\n",
    " - and a bootstrap aggregating algorithm over Naive Bayes classifier ([scientific paper: SNB](http://www.marc-boulle.fr/publications/BoulleJMLR07.pdf))\n",
    "\n",
    "The statistical reduction step transforms raw images to optimized images (means statistically interesting):\n",
    "\n",
    "<div style=\"background-color: gray; padding:-2px; margin:55px; transform: scale(2.5)\">\n",
    "<table>\n",
    "    <tr>\n",
    "    <th>Raw</td>\n",
    "    <th></td>\n",
    "    <th>Optimized</td>\n",
    "    </tr>\n",
    "    <tr>\n",
    "    <td>![raw](a.png)</td>\n",
    "    <td>--></td>\n",
    "    <td>![disc](disc.jpg)</td>\n",
    "    </tr>\n",
    "</table>\n",
    "</div><br/>\n",
    "\n",
    "The classifier computes for each image if it seems to be a A, B, ...:\n",
    "\n",
    "<div style=\"background-color: gray; padding:-2px; margin:55px; transform: scale(2.5)\">\n",
    "<table>\n",
    "    <tr>\n",
    "    <th>Raw</td>\n",
    "    <th></td>\n",
    "    <th>Predicted</td>\n",
    "    </tr>\n",
    "    <tr>\n",
    "    <td>![raw](e.png)</td>\n",
    "    <td>--></td>\n",
    "    <td>E (97.5%)</td>\n",
    "    </tr>\n",
    "</table>\n",
    "</div><br/>"
   ]
  },
  {
   "cell_type": "markdown",
   "metadata": {
    "collapsed": true,
    "run_control": {
     "frozen": false,
     "read_only": false
    }
   },
   "source": [
    "So in few lines we have obtained an good image classifier ready to real time prediction.\n",
    "\n",
    "# Next steps\n",
    "\n",
    "The AUC is really good but the recall need to be improve. Right! In a next post we will show how to use smart aggregates over images to improve the recognition ;-).\n",
    "In an other blog post, we show how to use this optimal statistical reduction (MODL) to reduce noise and accelerate training of a recurrent neural network (with tensorflow)."
   ]
  }
 ],
 "metadata": {
  "hide_input": false,
  "kernelspec": {
   "display_name": "Python 2",
   "language": "python",
   "name": "python2"
  },
  "language_info": {
   "codemirror_mode": {
    "name": "ipython",
    "version": 2
   },
   "file_extension": ".py",
   "mimetype": "text/x-python",
   "name": "python",
   "nbconvert_exporter": "python",
   "pygments_lexer": "ipython2",
   "version": "2.7.11"
  },
  "nav_menu": {},
  "toc": {
   "navigate_menu": true,
   "number_sections": true,
   "sideBar": true,
   "threshold": 6,
   "toc_cell": false,
   "toc_section_display": "block",
   "toc_window_display": false
  }
 },
 "nbformat": 4,
 "nbformat_minor": 0
}
